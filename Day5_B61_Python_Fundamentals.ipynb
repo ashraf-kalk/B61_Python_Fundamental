{
 "cells": [
  {
   "cell_type": "code",
   "execution_count": null,
   "id": "fae9f05d",
   "metadata": {},
   "outputs": [],
   "source": [
    "Continuation of list datatypes:"
   ]
  },
  {
   "cell_type": "code",
   "execution_count": null,
   "id": "96a8bc6b",
   "metadata": {},
   "outputs": [],
   "source": [
    "Organising the list datatypes:"
   ]
  },
  {
   "cell_type": "code",
   "execution_count": 1,
   "id": "8eb61e3d",
   "metadata": {},
   "outputs": [],
   "source": [
    "cars=['suzuki','audi','kia','toyota','volvo','benz','ferrari','bmw']"
   ]
  },
  {
   "cell_type": "code",
   "execution_count": 2,
   "id": "57bcd358",
   "metadata": {},
   "outputs": [
    {
     "name": "stdout",
     "output_type": "stream",
     "text": [
      "['suzuki', 'audi', 'kia', 'toyota', 'volvo', 'benz', 'ferrari', 'bmw']\n"
     ]
    }
   ],
   "source": [
    "print(cars)"
   ]
  },
  {
   "cell_type": "code",
   "execution_count": null,
   "id": "f446f2e0",
   "metadata": {},
   "outputs": [],
   "source": [
    "Requirement:  Want to arrange the list in alphabetical order:"
   ]
  },
  {
   "cell_type": "code",
   "execution_count": null,
   "id": "c82361a7",
   "metadata": {},
   "outputs": [],
   "source": [
    "There are two approaches to arrange data in alphabetical order:"
   ]
  },
  {
   "cell_type": "code",
   "execution_count": null,
   "id": "5c50ef68",
   "metadata": {},
   "outputs": [],
   "source": [
    "1.  Temporary approach:  sorted-----change is implemented temporarily----original order can be reversed back."
   ]
  },
  {
   "cell_type": "code",
   "execution_count": null,
   "id": "d37b00b9",
   "metadata": {},
   "outputs": [],
   "source": [
    "2.  Permanent approach:  sort-------change is implemented permanently"
   ]
  },
  {
   "cell_type": "code",
   "execution_count": 3,
   "id": "3f77ca68",
   "metadata": {},
   "outputs": [
    {
     "name": "stdout",
     "output_type": "stream",
     "text": [
      "['audi', 'benz', 'bmw', 'ferrari', 'kia', 'suzuki', 'toyota', 'volvo']\n"
     ]
    }
   ],
   "source": [
    "print(sorted(cars)) # Temporary approach"
   ]
  },
  {
   "cell_type": "code",
   "execution_count": 4,
   "id": "50d06d72",
   "metadata": {},
   "outputs": [
    {
     "name": "stdout",
     "output_type": "stream",
     "text": [
      "['suzuki', 'audi', 'kia', 'toyota', 'volvo', 'benz', 'ferrari', 'bmw']\n"
     ]
    }
   ],
   "source": [
    "print(cars)  #  Original order restored."
   ]
  },
  {
   "cell_type": "code",
   "execution_count": null,
   "id": "65c65ab7",
   "metadata": {},
   "outputs": [],
   "source": []
  },
  {
   "cell_type": "code",
   "execution_count": 7,
   "id": "7fc7bf21",
   "metadata": {},
   "outputs": [],
   "source": [
    "cars.sort() #Permanent approach ---order cannot be reversed---"
   ]
  },
  {
   "cell_type": "code",
   "execution_count": 8,
   "id": "e059d227",
   "metadata": {},
   "outputs": [
    {
     "name": "stdout",
     "output_type": "stream",
     "text": [
      "['audi', 'benz', 'bmw', 'ferrari', 'kia', 'suzuki', 'toyota', 'volvo']\n"
     ]
    }
   ],
   "source": [
    "print(cars)"
   ]
  },
  {
   "cell_type": "code",
   "execution_count": null,
   "id": "21aa09b7",
   "metadata": {},
   "outputs": [],
   "source": []
  },
  {
   "cell_type": "code",
   "execution_count": null,
   "id": "c0c7e631",
   "metadata": {},
   "outputs": [],
   "source": [
    "What is the difference between sorted and sort method in a list **** Interview question"
   ]
  },
  {
   "cell_type": "code",
   "execution_count": null,
   "id": "11b8569b",
   "metadata": {},
   "outputs": [],
   "source": []
  },
  {
   "cell_type": "code",
   "execution_count": null,
   "id": "7ae3e5a3",
   "metadata": {},
   "outputs": [],
   "source": [
    "How to revert the elements in the list."
   ]
  },
  {
   "cell_type": "code",
   "execution_count": null,
   "id": "576805f3",
   "metadata": {},
   "outputs": [],
   "source": [
    "syntax ----cars.reverse()"
   ]
  },
  {
   "cell_type": "code",
   "execution_count": 9,
   "id": "d5da1cef",
   "metadata": {},
   "outputs": [],
   "source": [
    "cars.reverse()"
   ]
  },
  {
   "cell_type": "code",
   "execution_count": 10,
   "id": "2a6b4b5e",
   "metadata": {},
   "outputs": [
    {
     "name": "stdout",
     "output_type": "stream",
     "text": [
      "['volvo', 'toyota', 'suzuki', 'kia', 'ferrari', 'bmw', 'benz', 'audi']\n"
     ]
    }
   ],
   "source": [
    "print(cars)"
   ]
  },
  {
   "cell_type": "code",
   "execution_count": null,
   "id": "310d38d6",
   "metadata": {},
   "outputs": [],
   "source": []
  },
  {
   "cell_type": "code",
   "execution_count": null,
   "id": "0bb9b919",
   "metadata": {},
   "outputs": [],
   "source": [
    "Requirement:  Want to count the number of students in the list:"
   ]
  },
  {
   "cell_type": "code",
   "execution_count": null,
   "id": "1634ffc0",
   "metadata": {},
   "outputs": [],
   "source": [
    "syntax:  len(list)"
   ]
  },
  {
   "cell_type": "code",
   "execution_count": 11,
   "id": "760cfe02",
   "metadata": {},
   "outputs": [
    {
     "data": {
      "text/plain": [
       "8"
      ]
     },
     "execution_count": 11,
     "metadata": {},
     "output_type": "execute_result"
    }
   ],
   "source": [
    "len(cars)"
   ]
  },
  {
   "cell_type": "code",
   "execution_count": null,
   "id": "bd5012d8",
   "metadata": {},
   "outputs": [],
   "source": []
  },
  {
   "cell_type": "code",
   "execution_count": null,
   "id": "3c2c5626",
   "metadata": {},
   "outputs": [],
   "source": [
    "Introduction to slicing of lists:"
   ]
  },
  {
   "cell_type": "code",
   "execution_count": null,
   "id": "4da03b0a",
   "metadata": {},
   "outputs": [],
   "source": [
    "General syntax of slicing: [startvalue:stopvalue:stopcount]"
   ]
  },
  {
   "cell_type": "code",
   "execution_count": null,
   "id": "d7a3104b",
   "metadata": {},
   "outputs": [],
   "source": [
    "Note:  Stopvalue is always exclusive:  To include the stopvalue, we have to increment the number by 1."
   ]
  },
  {
   "cell_type": "code",
   "execution_count": 19,
   "id": "734327ec",
   "metadata": {},
   "outputs": [],
   "source": [
    "students=['vamsi','deepak','naveed','john','yamini','reena']"
   ]
  },
  {
   "cell_type": "code",
   "execution_count": 20,
   "id": "4e783720",
   "metadata": {},
   "outputs": [
    {
     "name": "stdout",
     "output_type": "stream",
     "text": [
      "['vamsi', 'deepak', 'naveed', 'john', 'yamini', 'reena']\n"
     ]
    }
   ],
   "source": [
    "print(students)"
   ]
  },
  {
   "cell_type": "code",
   "execution_count": null,
   "id": "7eaea98a",
   "metadata": {},
   "outputs": [],
   "source": []
  },
  {
   "cell_type": "code",
   "execution_count": null,
   "id": "d25b7f53",
   "metadata": {},
   "outputs": [],
   "source": [
    "Requirement:  Want to include vamsi and deepak in one group --- slicing"
   ]
  },
  {
   "cell_type": "code",
   "execution_count": 21,
   "id": "ab3879b0",
   "metadata": {},
   "outputs": [
    {
     "name": "stdout",
     "output_type": "stream",
     "text": [
      "['vamsi']\n"
     ]
    }
   ],
   "source": [
    "print(students[0:1])  # This will only display the first object"
   ]
  },
  {
   "cell_type": "code",
   "execution_count": 22,
   "id": "8050be42",
   "metadata": {},
   "outputs": [
    {
     "name": "stdout",
     "output_type": "stream",
     "text": [
      "['vamsi', 'deepak']\n"
     ]
    }
   ],
   "source": [
    "print(students[0:2])  #  This displays both the names of vamsi and deepak ---stopvalue +1 = 0+(1+1)=0+2"
   ]
  },
  {
   "cell_type": "code",
   "execution_count": null,
   "id": "53e93b33",
   "metadata": {},
   "outputs": [],
   "source": []
  },
  {
   "cell_type": "code",
   "execution_count": null,
   "id": "fef7a17d",
   "metadata": {},
   "outputs": [],
   "source": [
    "#  Slice naveed and john in one group"
   ]
  },
  {
   "cell_type": "code",
   "execution_count": 23,
   "id": "8fc2f31f",
   "metadata": {},
   "outputs": [
    {
     "name": "stdout",
     "output_type": "stream",
     "text": [
      "['naveed', 'john']\n"
     ]
    }
   ],
   "source": [
    "print(students[2:4])  #  This displays both the names of naveed and john ---stopvalue +1 = 2+(3+1)=2+4"
   ]
  },
  {
   "cell_type": "code",
   "execution_count": null,
   "id": "69f1b704",
   "metadata": {},
   "outputs": [],
   "source": []
  },
  {
   "cell_type": "code",
   "execution_count": null,
   "id": "fc2c5930",
   "metadata": {},
   "outputs": [],
   "source": [
    "#  Slice yamini and reena in one group"
   ]
  },
  {
   "cell_type": "code",
   "execution_count": 24,
   "id": "75a1c988",
   "metadata": {},
   "outputs": [
    {
     "name": "stdout",
     "output_type": "stream",
     "text": [
      "['yamini', 'reena']\n"
     ]
    }
   ],
   "source": [
    "print(students[4:6])  #  This displays both the names of yamini and reena ---stopvalue +1 = 4+(5+1)=4+6"
   ]
  },
  {
   "cell_type": "code",
   "execution_count": null,
   "id": "ffb449df",
   "metadata": {},
   "outputs": [],
   "source": []
  }
 ],
 "metadata": {
  "kernelspec": {
   "display_name": "Python 3 (ipykernel)",
   "language": "python",
   "name": "python3"
  },
  "language_info": {
   "codemirror_mode": {
    "name": "ipython",
    "version": 3
   },
   "file_extension": ".py",
   "mimetype": "text/x-python",
   "name": "python",
   "nbconvert_exporter": "python",
   "pygments_lexer": "ipython3",
   "version": "3.9.12"
  }
 },
 "nbformat": 4,
 "nbformat_minor": 5
}

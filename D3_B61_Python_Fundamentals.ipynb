{
 "cells": [
  {
   "cell_type": "code",
   "execution_count": null,
   "id": "ea4892a6",
   "metadata": {},
   "outputs": [],
   "source": [
    "Continuation with string datatype"
   ]
  },
  {
   "cell_type": "code",
   "execution_count": 1,
   "id": "1c82c85b",
   "metadata": {},
   "outputs": [],
   "source": [
    "first_name='vamsi'\n",
    "last_name='krishna'"
   ]
  },
  {
   "cell_type": "code",
   "execution_count": 2,
   "id": "fc5911bd",
   "metadata": {},
   "outputs": [
    {
     "name": "stdout",
     "output_type": "stream",
     "text": [
      "vami krishna\n"
     ]
    }
   ],
   "source": [
    "full_name='vami krishna'# Requirement is to display fullname\n",
    "print(full_name)"
   ]
  },
  {
   "cell_type": "code",
   "execution_count": null,
   "id": "8f4a30d2",
   "metadata": {},
   "outputs": [],
   "source": [
    "Requirement is to display fullname in initial caps."
   ]
  },
  {
   "cell_type": "code",
   "execution_count": 3,
   "id": "aa81f090",
   "metadata": {},
   "outputs": [
    {
     "name": "stdout",
     "output_type": "stream",
     "text": [
      "Vami Krishna\n"
     ]
    }
   ],
   "source": [
    "print(full_name.title())"
   ]
  },
  {
   "cell_type": "code",
   "execution_count": null,
   "id": "54f10205",
   "metadata": {},
   "outputs": [],
   "source": [
    "Requirement is to display fullname in capital letters"
   ]
  },
  {
   "cell_type": "code",
   "execution_count": 4,
   "id": "a3632bb0",
   "metadata": {},
   "outputs": [
    {
     "name": "stdout",
     "output_type": "stream",
     "text": [
      "VAMI KRISHNA\n"
     ]
    }
   ],
   "source": [
    "print(full_name.upper())"
   ]
  },
  {
   "cell_type": "code",
   "execution_count": null,
   "id": "ba28f1c9",
   "metadata": {},
   "outputs": [],
   "source": [
    "Requirement is to display fullname in lower case"
   ]
  },
  {
   "cell_type": "code",
   "execution_count": 5,
   "id": "32f15e10",
   "metadata": {},
   "outputs": [
    {
     "name": "stdout",
     "output_type": "stream",
     "text": [
      "vami krishna\n"
     ]
    }
   ],
   "source": [
    "print(full_name.lower())"
   ]
  },
  {
   "cell_type": "code",
   "execution_count": null,
   "id": "84c7d7e3",
   "metadata": {},
   "outputs": [],
   "source": [
    "1.  title - title() -----To display string in intial caps."
   ]
  },
  {
   "cell_type": "code",
   "execution_count": null,
   "id": "94fa7a67",
   "metadata": {},
   "outputs": [],
   "source": [
    "2.  upper - upper()------To display string in capital letters."
   ]
  },
  {
   "cell_type": "code",
   "execution_count": null,
   "id": "debbf8d4",
   "metadata": {},
   "outputs": [],
   "source": [
    "3  lower - lower()-------To display string in lower caps/small letters."
   ]
  },
  {
   "cell_type": "code",
   "execution_count": null,
   "id": "1c927072",
   "metadata": {},
   "outputs": [],
   "source": []
  },
  {
   "cell_type": "code",
   "execution_count": null,
   "id": "6c2d414f",
   "metadata": {},
   "outputs": [],
   "source": [
    "Introduction to f strings:"
   ]
  },
  {
   "cell_type": "code",
   "execution_count": null,
   "id": "9260c685",
   "metadata": {},
   "outputs": [],
   "source": [
    "General syntax of f strings:"
   ]
  },
  {
   "cell_type": "code",
   "execution_count": null,
   "id": "c0d98ba9",
   "metadata": {},
   "outputs": [],
   "source": [
    "f\" custom message (placeholder1) (placeholder2).....(placeholder n)\""
   ]
  },
  {
   "cell_type": "code",
   "execution_count": 20,
   "id": "80861a57",
   "metadata": {},
   "outputs": [],
   "source": [
    "first_name=\"adil\"\n",
    "last_name=\"kamal\""
   ]
  },
  {
   "cell_type": "code",
   "execution_count": 67,
   "id": "826593fa",
   "metadata": {},
   "outputs": [
    {
     "name": "stdout",
     "output_type": "stream",
     "text": [
      "adil kamal\n"
     ]
    }
   ],
   "source": [
    "full_name=f\"{first_name} {last_name}\" # To display full name\n",
    "print(full_name)"
   ]
  },
  {
   "cell_type": "code",
   "execution_count": null,
   "id": "ad6cdd28",
   "metadata": {},
   "outputs": [],
   "source": []
  },
  {
   "cell_type": "code",
   "execution_count": null,
   "id": "ef0ec3ac",
   "metadata": {},
   "outputs": [],
   "source": [
    "Requirement is to get full name with a custom message"
   ]
  },
  {
   "cell_type": "code",
   "execution_count": 68,
   "id": "b8cd7c30",
   "metadata": {},
   "outputs": [
    {
     "name": "stdout",
     "output_type": "stream",
     "text": [
      "My full_name is adil kamal\n"
     ]
    }
   ],
   "source": [
    "full_name=f\"My full_name is {first_name} {last_name}\"\n",
    "print(full_name)"
   ]
  },
  {
   "cell_type": "code",
   "execution_count": null,
   "id": "0cbf8cf5",
   "metadata": {},
   "outputs": [],
   "source": []
  },
  {
   "cell_type": "code",
   "execution_count": null,
   "id": "11775494",
   "metadata": {},
   "outputs": [],
   "source": [
    "Requirement is to get full name in initial caps with a custom message"
   ]
  },
  {
   "cell_type": "code",
   "execution_count": 69,
   "id": "b2474074",
   "metadata": {},
   "outputs": [
    {
     "name": "stdout",
     "output_type": "stream",
     "text": [
      "My full_name is Adil Kamal\n"
     ]
    }
   ],
   "source": [
    "full_name=f\"My full_name is {first_name.title()} {last_name.title()}\"\n",
    "print(full_name)"
   ]
  },
  {
   "cell_type": "code",
   "execution_count": null,
   "id": "f8238bb0",
   "metadata": {},
   "outputs": [],
   "source": []
  },
  {
   "cell_type": "code",
   "execution_count": null,
   "id": "24c2c93b",
   "metadata": {},
   "outputs": [],
   "source": [
    "Requirement is to get full name in capital letters with a custom message"
   ]
  },
  {
   "cell_type": "code",
   "execution_count": 71,
   "id": "54d1defe",
   "metadata": {},
   "outputs": [
    {
     "name": "stdout",
     "output_type": "stream",
     "text": [
      "My full_name is ADIL KAMAL\n"
     ]
    }
   ],
   "source": [
    "full_name=f\"My full_name is {first_name.upper()} {last_name.upper()}\"\n",
    "print(full_name)"
   ]
  },
  {
   "cell_type": "code",
   "execution_count": null,
   "id": "ca194e13",
   "metadata": {},
   "outputs": [],
   "source": []
  },
  {
   "cell_type": "code",
   "execution_count": null,
   "id": "dc6ef16b",
   "metadata": {},
   "outputs": [],
   "source": [
    "Requirement is to get full name in small letters with a custom message"
   ]
  },
  {
   "cell_type": "code",
   "execution_count": 72,
   "id": "1aa90d2e",
   "metadata": {},
   "outputs": [
    {
     "name": "stdout",
     "output_type": "stream",
     "text": [
      "My full_name is adil kamal\n"
     ]
    }
   ],
   "source": [
    "full_name=f\"My full_name is {first_name.lower()} {last_name.lower()}\"\n",
    "print(full_name)"
   ]
  },
  {
   "cell_type": "code",
   "execution_count": null,
   "id": "e4531e6b",
   "metadata": {},
   "outputs": [],
   "source": []
  },
  {
   "cell_type": "code",
   "execution_count": null,
   "id": "1b4fec21",
   "metadata": {},
   "outputs": [],
   "source": [
    "Adding whitespaces to strings:"
   ]
  },
  {
   "cell_type": "code",
   "execution_count": 73,
   "id": "c37dbd53",
   "metadata": {},
   "outputs": [
    {
     "name": "stdout",
     "output_type": "stream",
     "text": [
      "favourite_programming_languagepythonjavac++swifthtmlc\n"
     ]
    }
   ],
   "source": [
    "print(\"favourite_programming_languagepythonjavac++swifthtmlc\")"
   ]
  },
  {
   "cell_type": "code",
   "execution_count": null,
   "id": "83e6a0d0",
   "metadata": {},
   "outputs": [],
   "source": []
  },
  {
   "cell_type": "code",
   "execution_count": null,
   "id": "73f79225",
   "metadata": {},
   "outputs": [],
   "source": []
  },
  {
   "cell_type": "code",
   "execution_count": 74,
   "id": "1d307156",
   "metadata": {},
   "outputs": [
    {
     "name": "stdout",
     "output_type": "stream",
     "text": [
      "favourite_programming_language:\n",
      "python\n",
      "java\n",
      "c++\n",
      "swift\n",
      "html\n",
      "c\n"
     ]
    }
   ],
   "source": [
    "print(\"favourite_programming_language:\\npython\\njava\\nc++\\nswift\\nhtml\\nc\") #   \\n is a line delimeter"
   ]
  },
  {
   "cell_type": "code",
   "execution_count": null,
   "id": "105c08f9",
   "metadata": {},
   "outputs": [],
   "source": []
  },
  {
   "cell_type": "code",
   "execution_count": 75,
   "id": "7e3a3bd4",
   "metadata": {},
   "outputs": [
    {
     "name": "stdout",
     "output_type": "stream",
     "text": [
      "favourite_programming_language:\n",
      "\tpython\n",
      "\tjava\n",
      "\tc++\n",
      "\tswift\n",
      "\thtml\n",
      "\tc\n"
     ]
    }
   ],
   "source": [
    "print(\"favourite_programming_language:\\n\\tpython\\n\\tjava\\n\\tc++\\n\\tswift\\n\\thtml\\n\\tc\") #   \\t is a line delimeter"
   ]
  },
  {
   "cell_type": "code",
   "execution_count": null,
   "id": "445685e8",
   "metadata": {},
   "outputs": [],
   "source": []
  },
  {
   "cell_type": "code",
   "execution_count": null,
   "id": "c0458442",
   "metadata": {},
   "outputs": [],
   "source": [
    "Removing whitespaces from strings:"
   ]
  },
  {
   "cell_type": "code",
   "execution_count": 76,
   "id": "7610aead",
   "metadata": {},
   "outputs": [
    {
     "name": "stdout",
     "output_type": "stream",
     "text": [
      "prasad\n"
     ]
    }
   ],
   "source": [
    "name1='prasad'\n",
    "print(name1)"
   ]
  },
  {
   "cell_type": "code",
   "execution_count": 77,
   "id": "6e9a4b7f",
   "metadata": {},
   "outputs": [
    {
     "name": "stdout",
     "output_type": "stream",
     "text": [
      "      prasad\n"
     ]
    }
   ],
   "source": [
    "name2='      prasad'\n",
    "print(name2)"
   ]
  },
  {
   "cell_type": "code",
   "execution_count": 78,
   "id": "d6cfbb3c",
   "metadata": {},
   "outputs": [],
   "source": [
    "name3='prasad     '"
   ]
  },
  {
   "cell_type": "code",
   "execution_count": null,
   "id": "c5ea13a3",
   "metadata": {},
   "outputs": [],
   "source": []
  },
  {
   "cell_type": "code",
   "execution_count": null,
   "id": "55bc8e97",
   "metadata": {},
   "outputs": [],
   "source": [
    "To remove the unwanted spaces from the above output lstrip or rstrip are used."
   ]
  },
  {
   "cell_type": "code",
   "execution_count": 79,
   "id": "b12c9e2e",
   "metadata": {},
   "outputs": [
    {
     "name": "stdout",
     "output_type": "stream",
     "text": [
      "prasad\n"
     ]
    }
   ],
   "source": [
    "print(name2.lstrip())   #To remove unwanted spaces from the left hand side"
   ]
  },
  {
   "cell_type": "code",
   "execution_count": 80,
   "id": "6c6a7da4",
   "metadata": {},
   "outputs": [
    {
     "name": "stdout",
     "output_type": "stream",
     "text": [
      "prasad\n"
     ]
    }
   ],
   "source": [
    "print(name3.rstrip())     #To remove unwanted spaces from the right hand side"
   ]
  },
  {
   "cell_type": "code",
   "execution_count": null,
   "id": "2bc4e345",
   "metadata": {},
   "outputs": [],
   "source": []
  },
  {
   "cell_type": "code",
   "execution_count": null,
   "id": "aa8fa45b",
   "metadata": {},
   "outputs": [],
   "source": []
  },
  {
   "cell_type": "code",
   "execution_count": null,
   "id": "a1b4bbb7",
   "metadata": {},
   "outputs": [],
   "source": []
  },
  {
   "cell_type": "code",
   "execution_count": null,
   "id": "be9505d6",
   "metadata": {},
   "outputs": [],
   "source": []
  }
 ],
 "metadata": {
  "kernelspec": {
   "display_name": "Python 3 (ipykernel)",
   "language": "python",
   "name": "python3"
  },
  "language_info": {
   "codemirror_mode": {
    "name": "ipython",
    "version": 3
   },
   "file_extension": ".py",
   "mimetype": "text/x-python",
   "name": "python",
   "nbconvert_exporter": "python",
   "pygments_lexer": "ipython3",
   "version": "3.9.12"
  }
 },
 "nbformat": 4,
 "nbformat_minor": 5
}

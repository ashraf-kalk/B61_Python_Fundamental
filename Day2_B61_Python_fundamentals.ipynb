{
 "cells": [
  {
   "cell_type": "code",
   "execution_count": null,
   "id": "50d8de22",
   "metadata": {},
   "outputs": [],
   "source": [
    "Introduction to Python Programming"
   ]
  },
  {
   "cell_type": "code",
   "execution_count": null,
   "id": "a442aedf",
   "metadata": {},
   "outputs": [],
   "source": [
    "Understanding the variables in Python"
   ]
  },
  {
   "cell_type": "code",
   "execution_count": null,
   "id": "a241d801",
   "metadata": {},
   "outputs": [],
   "source": []
  },
  {
   "cell_type": "code",
   "execution_count": null,
   "id": "910f0eb8",
   "metadata": {},
   "outputs": [],
   "source": [
    "Rules for declaring variables in Python"
   ]
  },
  {
   "cell_type": "code",
   "execution_count": null,
   "id": "eadb4e14",
   "metadata": {},
   "outputs": [],
   "source": [
    "1.  Variable name should not contain any namespaces"
   ]
  },
  {
   "cell_type": "code",
   "execution_count": 1,
   "id": "9c57faa8",
   "metadata": {},
   "outputs": [
    {
     "ename": "SyntaxError",
     "evalue": "invalid syntax (4174870327.py, line 1)",
     "output_type": "error",
     "traceback": [
      "\u001b[1;36m  Input \u001b[1;32mIn [1]\u001b[1;36m\u001b[0m\n\u001b[1;33m    first name=\"Faiyaz\"\u001b[0m\n\u001b[1;37m          ^\u001b[0m\n\u001b[1;31mSyntaxError\u001b[0m\u001b[1;31m:\u001b[0m invalid syntax\n"
     ]
    }
   ],
   "source": [
    "first name=\"Faiyaz\"\n",
    "print(first name)"
   ]
  },
  {
   "cell_type": "code",
   "execution_count": 2,
   "id": "7c6624cd",
   "metadata": {},
   "outputs": [
    {
     "name": "stdout",
     "output_type": "stream",
     "text": [
      "faiyaz\n"
     ]
    }
   ],
   "source": [
    "firstname =\"faiyaz\"\n",
    "print(firstname)"
   ]
  },
  {
   "cell_type": "code",
   "execution_count": null,
   "id": "953876b7",
   "metadata": {},
   "outputs": [],
   "source": [
    "2.  Variable name should not start with a number **"
   ]
  },
  {
   "cell_type": "code",
   "execution_count": 8,
   "id": "0811e948",
   "metadata": {},
   "outputs": [
    {
     "ename": "SyntaxError",
     "evalue": "invalid syntax (1080437742.py, line 1)",
     "output_type": "error",
     "traceback": [
      "\u001b[1;36m  Input \u001b[1;32mIn [8]\u001b[1;36m\u001b[0m\n\u001b[1;33m    1name='jaysree'\u001b[0m\n\u001b[1;37m     ^\u001b[0m\n\u001b[1;31mSyntaxError\u001b[0m\u001b[1;31m:\u001b[0m invalid syntax\n"
     ]
    }
   ],
   "source": [
    "1name='jaysree'\n",
    "print(1name)"
   ]
  },
  {
   "cell_type": "code",
   "execution_count": 9,
   "id": "63e58583",
   "metadata": {},
   "outputs": [
    {
     "name": "stdout",
     "output_type": "stream",
     "text": [
      "jayshree\n"
     ]
    }
   ],
   "source": [
    "name1=\"jayshree\"\n",
    "print(name1)"
   ]
  },
  {
   "cell_type": "code",
   "execution_count": null,
   "id": "efd2c01b",
   "metadata": {},
   "outputs": [],
   "source": [
    "3.  Variable name should not contain special characters\n",
    "@#$%"
   ]
  },
  {
   "cell_type": "code",
   "execution_count": 10,
   "id": "a9f3440e",
   "metadata": {},
   "outputs": [
    {
     "ename": "SyntaxError",
     "evalue": "invalid syntax (4177634264.py, line 2)",
     "output_type": "error",
     "traceback": [
      "\u001b[1;36m  Input \u001b[1;32mIn [10]\u001b[1;36m\u001b[0m\n\u001b[1;33m    print(name@)\u001b[0m\n\u001b[1;37m               ^\u001b[0m\n\u001b[1;31mSyntaxError\u001b[0m\u001b[1;31m:\u001b[0m invalid syntax\n"
     ]
    }
   ],
   "source": [
    "name@='Ram'\n",
    "print(name@)"
   ]
  },
  {
   "cell_type": "code",
   "execution_count": 11,
   "id": "a4ccb959",
   "metadata": {},
   "outputs": [
    {
     "name": "stdout",
     "output_type": "stream",
     "text": [
      "Ram\n"
     ]
    }
   ],
   "source": [
    "nameat='Ram'\n",
    "print(nameat)"
   ]
  },
  {
   "cell_type": "code",
   "execution_count": null,
   "id": "05b6f03c",
   "metadata": {},
   "outputs": [],
   "source": [
    "Introduction to datatypes in Python"
   ]
  },
  {
   "cell_type": "code",
   "execution_count": null,
   "id": "0ff1c9ab",
   "metadata": {},
   "outputs": [],
   "source": [
    "1.  String ----- (str)"
   ]
  },
  {
   "cell_type": "code",
   "execution_count": null,
   "id": "66ebd1d6",
   "metadata": {},
   "outputs": [],
   "source": [
    "2.  Numbers ---- Integers (int) and floats (float) --- floats is used for decimal numbers"
   ]
  },
  {
   "cell_type": "code",
   "execution_count": null,
   "id": "e2eb2f77",
   "metadata": {},
   "outputs": [],
   "source": [
    "3.  Lists ------ list"
   ]
  },
  {
   "cell_type": "code",
   "execution_count": null,
   "id": "f0fb9ef4",
   "metadata": {},
   "outputs": [],
   "source": [
    "4.  Tuples ----- tuple"
   ]
  },
  {
   "cell_type": "code",
   "execution_count": null,
   "id": "346a9414",
   "metadata": {},
   "outputs": [],
   "source": [
    "5.  Dictionaries --- dict"
   ]
  },
  {
   "cell_type": "code",
   "execution_count": null,
   "id": "ac21017b",
   "metadata": {},
   "outputs": [],
   "source": []
  },
  {
   "cell_type": "code",
   "execution_count": null,
   "id": "8247775d",
   "metadata": {},
   "outputs": [],
   "source": [
    "Classificatin of datatupes:"
   ]
  },
  {
   "cell_type": "code",
   "execution_count": null,
   "id": "3965838e",
   "metadata": {},
   "outputs": [],
   "source": [
    "1.  Mutable datatypes - which we can edit or alter i.e. flexible."
   ]
  },
  {
   "cell_type": "code",
   "execution_count": null,
   "id": "23dd32a9",
   "metadata": {},
   "outputs": [],
   "source": [
    "2.  Immutable datatypes - which we cannot edit or alter i.e. fixed in nature - non-flexible."
   ]
  },
  {
   "cell_type": "code",
   "execution_count": null,
   "id": "174e83f8",
   "metadata": {},
   "outputs": [],
   "source": []
  },
  {
   "cell_type": "code",
   "execution_count": null,
   "id": "9af55f96",
   "metadata": {},
   "outputs": [],
   "source": [
    "Introduction to String datatype:"
   ]
  },
  {
   "cell_type": "code",
   "execution_count": null,
   "id": "5ca6d4b2",
   "metadata": {},
   "outputs": [],
   "source": [
    "A string is a series of characters declared in quotes."
   ]
  },
  {
   "cell_type": "code",
   "execution_count": null,
   "id": "e8a2ff44",
   "metadata": {},
   "outputs": [],
   "source": [
    "String is classified as an immutable datatype."
   ]
  },
  {
   "cell_type": "code",
   "execution_count": null,
   "id": "018dc55a",
   "metadata": {},
   "outputs": [],
   "source": [
    "How to define a string - There are three possible ways for declaring a string."
   ]
  },
  {
   "cell_type": "code",
   "execution_count": null,
   "id": "bde9e7a0",
   "metadata": {},
   "outputs": [],
   "source": [
    "1.  Single quotes."
   ]
  },
  {
   "cell_type": "code",
   "execution_count": 12,
   "id": "50d13362",
   "metadata": {},
   "outputs": [
    {
     "name": "stdout",
     "output_type": "stream",
     "text": [
      "anand\n"
     ]
    }
   ],
   "source": [
    "student1='anand'\n",
    "print(student1)"
   ]
  },
  {
   "cell_type": "code",
   "execution_count": null,
   "id": "b6186808",
   "metadata": {},
   "outputs": [],
   "source": [
    "2.  Double quotes."
   ]
  },
  {
   "cell_type": "code",
   "execution_count": 13,
   "id": "0153dcb6",
   "metadata": {},
   "outputs": [
    {
     "name": "stdout",
     "output_type": "stream",
     "text": [
      "aarav\n"
     ]
    }
   ],
   "source": [
    "student2=\"aarav\"\n",
    "print(student2)"
   ]
  },
  {
   "cell_type": "code",
   "execution_count": null,
   "id": "c14f20c7",
   "metadata": {},
   "outputs": [],
   "source": [
    "3.  Triple quotes."
   ]
  },
  {
   "cell_type": "code",
   "execution_count": 14,
   "id": "9bd96586",
   "metadata": {},
   "outputs": [
    {
     "name": "stdout",
     "output_type": "stream",
     "text": [
      "'omkar'\n"
     ]
    }
   ],
   "source": [
    "student3=\"'omkar'\"\n",
    "print(student3)"
   ]
  },
  {
   "cell_type": "code",
   "execution_count": null,
   "id": "4fc3ec31",
   "metadata": {},
   "outputs": [],
   "source": [
    "Introduction to string methods:"
   ]
  },
  {
   "cell_type": "code",
   "execution_count": null,
   "id": "d0199bd6",
   "metadata": {},
   "outputs": [],
   "source": [
    "type() - Type is used to verify the datatypes"
   ]
  },
  {
   "cell_type": "code",
   "execution_count": 15,
   "id": "751c6183",
   "metadata": {},
   "outputs": [
    {
     "data": {
      "text/plain": [
       "str"
      ]
     },
     "execution_count": 15,
     "metadata": {},
     "output_type": "execute_result"
    }
   ],
   "source": [
    "type(student1)"
   ]
  },
  {
   "cell_type": "code",
   "execution_count": 16,
   "id": "69898392",
   "metadata": {},
   "outputs": [
    {
     "data": {
      "text/plain": [
       "str"
      ]
     },
     "execution_count": 16,
     "metadata": {},
     "output_type": "execute_result"
    }
   ],
   "source": [
    "type(student2)"
   ]
  },
  {
   "cell_type": "code",
   "execution_count": 17,
   "id": "689f4da9",
   "metadata": {},
   "outputs": [
    {
     "data": {
      "text/plain": [
       "str"
      ]
     },
     "execution_count": 17,
     "metadata": {},
     "output_type": "execute_result"
    }
   ],
   "source": [
    "type(student3)"
   ]
  },
  {
   "cell_type": "code",
   "execution_count": null,
   "id": "697c9512",
   "metadata": {},
   "outputs": [],
   "source": [
    "# is used for commenting out lines - Python will ignore to execute the part after #."
   ]
  },
  {
   "cell_type": "code",
   "execution_count": null,
   "id": "1d0875ce",
   "metadata": {},
   "outputs": [],
   "source": []
  },
  {
   "cell_type": "code",
   "execution_count": null,
   "id": "d7fec1c7",
   "metadata": {},
   "outputs": [],
   "source": []
  }
 ],
 "metadata": {
  "kernelspec": {
   "display_name": "Python 3 (ipykernel)",
   "language": "python",
   "name": "python3"
  },
  "language_info": {
   "codemirror_mode": {
    "name": "ipython",
    "version": 3
   },
   "file_extension": ".py",
   "mimetype": "text/x-python",
   "name": "python",
   "nbconvert_exporter": "python",
   "pygments_lexer": "ipython3",
   "version": "3.9.12"
  }
 },
 "nbformat": 4,
 "nbformat_minor": 5
}

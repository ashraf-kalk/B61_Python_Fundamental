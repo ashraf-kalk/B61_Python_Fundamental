{
 "cells": [
  {
   "cell_type": "code",
   "execution_count": null,
   "id": "f5cc1da6",
   "metadata": {},
   "outputs": [],
   "source": [
    "Introduction to list datatype:"
   ]
  },
  {
   "cell_type": "code",
   "execution_count": null,
   "id": "214907e6",
   "metadata": {},
   "outputs": [],
   "source": [
    "Defination:  A list is a collection of items in a particular order."
   ]
  },
  {
   "cell_type": "code",
   "execution_count": null,
   "id": "98bb53dc",
   "metadata": {},
   "outputs": [],
   "source": [
    "Classification:  It is classifed as a mutable datatype."
   ]
  },
  {
   "cell_type": "code",
   "execution_count": null,
   "id": "95be0635",
   "metadata": {},
   "outputs": [],
   "source": []
  },
  {
   "cell_type": "code",
   "execution_count": null,
   "id": "a31fd76b",
   "metadata": {},
   "outputs": [],
   "source": [
    "How to declare the list datatype......[...]"
   ]
  },
  {
   "cell_type": "code",
   "execution_count": 2,
   "id": "d0a7693f",
   "metadata": {},
   "outputs": [
    {
     "name": "stdout",
     "output_type": "stream",
     "text": [
      "['nusrat', 'deepika', 'nikhil', 'rahul', 'naveen', 'joseph', 'imran']\n"
     ]
    }
   ],
   "source": [
    "students=['nusrat','deepika','nikhil','rahul','naveen','joseph','imran']\n",
    "print(students)"
   ]
  },
  {
   "cell_type": "code",
   "execution_count": null,
   "id": "ab1d6d7b",
   "metadata": {},
   "outputs": [],
   "source": []
  },
  {
   "cell_type": "code",
   "execution_count": null,
   "id": "987a38d8",
   "metadata": {},
   "outputs": [],
   "source": [
    "Introduction to indexing:  0,1,2,3,4,5..."
   ]
  },
  {
   "cell_type": "code",
   "execution_count": null,
   "id": "0e94e664",
   "metadata": {},
   "outputs": [],
   "source": [
    "Requirement:  Want to get the name of deepika in output."
   ]
  },
  {
   "cell_type": "code",
   "execution_count": 4,
   "id": "4fea3269",
   "metadata": {},
   "outputs": [
    {
     "name": "stdout",
     "output_type": "stream",
     "text": [
      "deepika\n"
     ]
    }
   ],
   "source": [
    "print(students[1])"
   ]
  },
  {
   "cell_type": "code",
   "execution_count": null,
   "id": "e71cabf4",
   "metadata": {},
   "outputs": [],
   "source": [
    "Requirement:  Want to get the name of rahul in teh output"
   ]
  },
  {
   "cell_type": "code",
   "execution_count": 5,
   "id": "2909cd83",
   "metadata": {},
   "outputs": [
    {
     "name": "stdout",
     "output_type": "stream",
     "text": [
      "rahul\n"
     ]
    }
   ],
   "source": [
    "print(students[3])"
   ]
  },
  {
   "cell_type": "code",
   "execution_count": null,
   "id": "6fa439c8",
   "metadata": {},
   "outputs": [],
   "source": []
  },
  {
   "cell_type": "code",
   "execution_count": null,
   "id": "642385f4",
   "metadata": {},
   "outputs": [],
   "source": [
    "1.  How to add new elements to the list"
   ]
  },
  {
   "cell_type": "code",
   "execution_count": null,
   "id": "87100c6a",
   "metadata": {},
   "outputs": [],
   "source": [
    "2.  How to modify the elements in the list"
   ]
  },
  {
   "cell_type": "code",
   "execution_count": null,
   "id": "2faa81d4",
   "metadata": {},
   "outputs": [],
   "source": [
    "3.  How to delete the elements in the list."
   ]
  },
  {
   "cell_type": "code",
   "execution_count": null,
   "id": "3bddc3d6",
   "metadata": {},
   "outputs": [],
   "source": []
  },
  {
   "cell_type": "code",
   "execution_count": null,
   "id": "787ec69e",
   "metadata": {},
   "outputs": [],
   "source": [
    "Requirement:  Want to add yamini to the list."
   ]
  },
  {
   "cell_type": "code",
   "execution_count": 6,
   "id": "3837c67b",
   "metadata": {},
   "outputs": [
    {
     "name": "stdout",
     "output_type": "stream",
     "text": [
      "['nusrat', 'deepika', 'nikhil', 'rahul', 'naveen', 'joseph', 'imran', 'yamini']\n"
     ]
    }
   ],
   "source": [
    "students.append('yamini')\n",
    "print(students)"
   ]
  },
  {
   "cell_type": "code",
   "execution_count": null,
   "id": "5badb741",
   "metadata": {},
   "outputs": [],
   "source": []
  },
  {
   "cell_type": "code",
   "execution_count": null,
   "id": "a29e5913",
   "metadata": {},
   "outputs": [],
   "source": [
    "Requirement:  Want to add harish to the above list."
   ]
  },
  {
   "cell_type": "code",
   "execution_count": 7,
   "id": "498ce0c8",
   "metadata": {},
   "outputs": [
    {
     "name": "stdout",
     "output_type": "stream",
     "text": [
      "['nusrat', 'deepika', 'nikhil', 'rahul', 'naveen', 'joseph', 'imran', 'yamini', 'harish']\n"
     ]
    }
   ],
   "source": [
    "students.append('harish')\n",
    "print(students)"
   ]
  },
  {
   "cell_type": "code",
   "execution_count": null,
   "id": "bd90d57a",
   "metadata": {},
   "outputs": [],
   "source": []
  },
  {
   "cell_type": "code",
   "execution_count": null,
   "id": "5bc30114",
   "metadata": {},
   "outputs": [],
   "source": [
    "Requirement:  Want to add jafar to the 2nd index."
   ]
  },
  {
   "cell_type": "code",
   "execution_count": 8,
   "id": "8789a1a1",
   "metadata": {},
   "outputs": [
    {
     "name": "stdout",
     "output_type": "stream",
     "text": [
      "['nusrat', 'deepika', 'jafar', 'nikhil', 'rahul', 'naveen', 'joseph', 'imran', 'yamini', 'harish']\n"
     ]
    }
   ],
   "source": [
    "students.insert(2,'jafar')\n",
    "print(students)"
   ]
  },
  {
   "cell_type": "code",
   "execution_count": null,
   "id": "e456c8ad",
   "metadata": {},
   "outputs": [],
   "source": []
  },
  {
   "cell_type": "code",
   "execution_count": null,
   "id": "d99c91b7",
   "metadata": {},
   "outputs": [],
   "source": [
    "Requirement:  Want to naveen name to satish"
   ]
  },
  {
   "cell_type": "code",
   "execution_count": 9,
   "id": "9e544364",
   "metadata": {},
   "outputs": [
    {
     "name": "stdout",
     "output_type": "stream",
     "text": [
      "['nusrat', 'deepika', 'jafar', 'nikhil', 'rahul', 'satish', 'joseph', 'imran', 'yamini', 'harish']\n"
     ]
    }
   ],
   "source": [
    "students[5]='satish'\n",
    "print(students)"
   ]
  },
  {
   "cell_type": "code",
   "execution_count": null,
   "id": "d355cd2a",
   "metadata": {},
   "outputs": [],
   "source": []
  },
  {
   "cell_type": "code",
   "execution_count": null,
   "id": "0e77e967",
   "metadata": {},
   "outputs": [],
   "source": []
  }
 ],
 "metadata": {
  "kernelspec": {
   "display_name": "Python 3 (ipykernel)",
   "language": "python",
   "name": "python3"
  },
  "language_info": {
   "codemirror_mode": {
    "name": "ipython",
    "version": 3
   },
   "file_extension": ".py",
   "mimetype": "text/x-python",
   "name": "python",
   "nbconvert_exporter": "python",
   "pygments_lexer": "ipython3",
   "version": "3.9.12"
  }
 },
 "nbformat": 4,
 "nbformat_minor": 5
}
